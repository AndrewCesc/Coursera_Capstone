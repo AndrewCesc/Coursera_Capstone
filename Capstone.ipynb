{
 "cells": [
  {
   "cell_type": "markdown",
   "metadata": {},
   "source": [
    "# Introduction"
   ]
  },
  {
   "cell_type": "markdown",
   "metadata": {},
   "source": [
    "New York City has a various demography from an ethnical and multicultural point of view. It is the largest city in the United States and it's the home of numerous legal immigrants from all over the world. \n",
    "\n",
    "This aim of this final project is to explore the perfect location in order to open a new Chinese restaurant in the city of New York. Chinese restaurants are becoming more and more popular among new yorkers, since they offer an authentic Chinese cusine with affordable prices. This is the reason why opening a new Chinese restaurant is convenient nowadays. However, despite the incredible success asian food is having lately, it's crucial to find the right location for the restaurant, as it contributes for the most part to the success of the restaurant. The question my project wants to answer to is the following: \"Where should an investor open a Chinese Restaurant?\""
   ]
  },
  {
   "cell_type": "markdown",
   "metadata": {},
   "source": [
    "# Data"
   ]
  },
  {
   "cell_type": "markdown",
   "metadata": {},
   "source": [
    "Collecting data is crucial to answer the above question. Data on New York City must include information about neighborhoods, boroughs, latitude, longitude, restaurants, restaurant ratings and tips. All data regarding neighborhoods and boroughs, latitudes and longitudes can easily be obtained from this dataset: https://cocl.us/new_york_dataset.\n",
    "\n",
    "On the other hand, all data related to locations and quality of Chinese restaurants will be obtained via the FourSquare API utilized via the Request library in Python."
   ]
  },
  {
   "cell_type": "code",
   "execution_count": null,
   "metadata": {},
   "outputs": [],
   "source": []
  }
 ],
 "metadata": {
  "kernelspec": {
   "display_name": "Python 3",
   "language": "python",
   "name": "python3"
  },
  "language_info": {
   "codemirror_mode": {
    "name": "ipython",
    "version": 3
   },
   "file_extension": ".py",
   "mimetype": "text/x-python",
   "name": "python",
   "nbconvert_exporter": "python",
   "pygments_lexer": "ipython3",
   "version": "3.7.3"
  }
 },
 "nbformat": 4,
 "nbformat_minor": 2
}
